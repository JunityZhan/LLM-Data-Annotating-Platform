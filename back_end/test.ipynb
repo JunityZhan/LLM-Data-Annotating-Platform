{
 "cells": [
  {
   "cell_type": "code",
   "execution_count": null,
   "id": "initial_id",
   "metadata": {
    "collapsed": true
   },
   "outputs": [],
   "source": []
  },
  {
   "cell_type": "code",
   "execution_count": 1,
   "outputs": [],
   "source": [
    "from pymongo import MongoClient\n",
    "\n",
    "client = MongoClient('mongodb://localhost:27017/')\n",
    "db = client['history']  # 你的数据库名称\n",
    "collection = db['history']  # 你的集合名称，相当于关系数据库中的表"
   ],
   "metadata": {
    "collapsed": false,
    "ExecuteTime": {
     "end_time": "2023-08-05T16:02:47.729264900Z",
     "start_time": "2023-08-05T16:02:47.395871800Z"
    }
   },
   "id": "e2d7eaa07d95d7ef"
  },
  {
   "cell_type": "code",
   "execution_count": 11,
   "outputs": [
    {
     "name": "stdout",
     "output_type": "stream",
     "text": [
      "{'_id': 'a16230f5-ea75-4e68-9279-65eeb36b8616', '神里绫华': {'user': ['你好', '神里绫华'], 'ai': ['你好，旅行者', '今天来干什么呢？']}, '流浪者': {'ai': ['你好，旅行者'], 'user': ['你好']}}\n",
      "{'_id': 'a16230f5-ea75-4e68-9279-65eeb36b8616', '神里绫华': {'user': ['你好', '神里绫华'], 'ai': ['你好，旅行者', '今天来干什么呢？']}, '流浪者': {'ai': ['你好，旅行者'], 'user': ['你好']}}\n"
     ]
    }
   ],
   "source": [
    "for i in collection.find():\n",
    "    print(i)\n",
    "    doc_id = \"a16230f5-ea75-4e68-9279-65eeb36b8616\"\n",
    "    collection.update_one({'_id': doc_id}, {'$set': {\"神里绫华.user.0\": \"你好，神里绫华\"}})\n",
    "    print(i)\n",
    "    break"
   ],
   "metadata": {
    "collapsed": false,
    "ExecuteTime": {
     "end_time": "2023-08-05T16:45:11.365693400Z",
     "start_time": "2023-08-05T16:45:11.330161800Z"
    }
   },
   "id": "6f96ff92cde98f5d"
  },
  {
   "cell_type": "code",
   "execution_count": 12,
   "outputs": [
    {
     "name": "stdout",
     "output_type": "stream",
     "text": [
      "{'_id': 'a16230f5-ea75-4e68-9279-65eeb36b8616', '神里绫华': {'user': ['你好，神里绫华', '神里绫华'], 'ai': ['你好，旅行者', '今天来干什么呢？']}, '流浪者': {'ai': ['你好，旅行者'], 'user': ['你好']}}\n",
      "{'_id': 'a16230f5-ea75-4e68-9279-65eeb36b8616', '神里绫华': {'user': ['你好，神里绫华', '神里绫华'], 'ai': ['你好，旅行者', '今天来干什么呢？']}, '流浪者': {'ai': ['你好，旅行者'], 'user': ['你好']}}\n"
     ]
    }
   ],
   "source": [
    "for i in collection.find():\n",
    "    print(i)\n",
    "    doc_id = \"a16230f5-ea75-4e68-9279-65eeb36b8616\"\n",
    "    collection.update_one({'_id': doc_id}, {'$set': {\"神里绫华.user.0\": \"你好，神里绫华\"}})\n",
    "    print(i)\n",
    "    break"
   ],
   "metadata": {
    "collapsed": false,
    "ExecuteTime": {
     "end_time": "2023-08-05T16:45:33.980699600Z",
     "start_time": "2023-08-05T16:45:33.963241600Z"
    }
   },
   "id": "740d09a60c35cb9e"
  }
 ],
 "metadata": {
  "kernelspec": {
   "display_name": "Python 3",
   "language": "python",
   "name": "python3"
  },
  "language_info": {
   "codemirror_mode": {
    "name": "ipython",
    "version": 2
   },
   "file_extension": ".py",
   "mimetype": "text/x-python",
   "name": "python",
   "nbconvert_exporter": "python",
   "pygments_lexer": "ipython2",
   "version": "2.7.6"
  }
 },
 "nbformat": 4,
 "nbformat_minor": 5
}
